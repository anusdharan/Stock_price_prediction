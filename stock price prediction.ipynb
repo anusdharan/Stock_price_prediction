{
 "cells": [
  {
   "cell_type": "code",
   "execution_count": 1,
   "id": "fc98a672",
   "metadata": {},
   "outputs": [],
   "source": [
    "import pandas as pd\n",
    "import numpy as np"
   ]
  },
  {
   "cell_type": "code",
   "execution_count": 2,
   "id": "41e023ee",
   "metadata": {},
   "outputs": [],
   "source": [
    "data=pd.read_csv('AAPL.csv') #Stock market data of apple "
   ]
  },
  {
   "cell_type": "code",
   "execution_count": 3,
   "id": "33cc3baa",
   "metadata": {},
   "outputs": [
    {
     "data": {
      "text/html": [
       "<div>\n",
       "<style scoped>\n",
       "    .dataframe tbody tr th:only-of-type {\n",
       "        vertical-align: middle;\n",
       "    }\n",
       "\n",
       "    .dataframe tbody tr th {\n",
       "        vertical-align: top;\n",
       "    }\n",
       "\n",
       "    .dataframe thead th {\n",
       "        text-align: right;\n",
       "    }\n",
       "</style>\n",
       "<table border=\"1\" class=\"dataframe\">\n",
       "  <thead>\n",
       "    <tr style=\"text-align: right;\">\n",
       "      <th></th>\n",
       "      <th>Unnamed: 0</th>\n",
       "      <th>symbol</th>\n",
       "      <th>date</th>\n",
       "      <th>close</th>\n",
       "      <th>high</th>\n",
       "      <th>low</th>\n",
       "      <th>open</th>\n",
       "      <th>volume</th>\n",
       "      <th>adjClose</th>\n",
       "      <th>adjHigh</th>\n",
       "      <th>adjLow</th>\n",
       "      <th>adjOpen</th>\n",
       "      <th>adjVolume</th>\n",
       "      <th>divCash</th>\n",
       "      <th>splitFactor</th>\n",
       "    </tr>\n",
       "  </thead>\n",
       "  <tbody>\n",
       "    <tr>\n",
       "      <th>0</th>\n",
       "      <td>0</td>\n",
       "      <td>AAPL</td>\n",
       "      <td>2015-05-27 00:00:00+00:00</td>\n",
       "      <td>132.045</td>\n",
       "      <td>132.260</td>\n",
       "      <td>130.05</td>\n",
       "      <td>130.34</td>\n",
       "      <td>45833246</td>\n",
       "      <td>121.682558</td>\n",
       "      <td>121.880685</td>\n",
       "      <td>119.844118</td>\n",
       "      <td>120.111360</td>\n",
       "      <td>45833246</td>\n",
       "      <td>0.0</td>\n",
       "      <td>1.0</td>\n",
       "    </tr>\n",
       "    <tr>\n",
       "      <th>1</th>\n",
       "      <td>1</td>\n",
       "      <td>AAPL</td>\n",
       "      <td>2015-05-28 00:00:00+00:00</td>\n",
       "      <td>131.780</td>\n",
       "      <td>131.950</td>\n",
       "      <td>131.10</td>\n",
       "      <td>131.86</td>\n",
       "      <td>30733309</td>\n",
       "      <td>121.438354</td>\n",
       "      <td>121.595013</td>\n",
       "      <td>120.811718</td>\n",
       "      <td>121.512076</td>\n",
       "      <td>30733309</td>\n",
       "      <td>0.0</td>\n",
       "      <td>1.0</td>\n",
       "    </tr>\n",
       "    <tr>\n",
       "      <th>2</th>\n",
       "      <td>2</td>\n",
       "      <td>AAPL</td>\n",
       "      <td>2015-05-29 00:00:00+00:00</td>\n",
       "      <td>130.280</td>\n",
       "      <td>131.450</td>\n",
       "      <td>129.90</td>\n",
       "      <td>131.23</td>\n",
       "      <td>50884452</td>\n",
       "      <td>120.056069</td>\n",
       "      <td>121.134251</td>\n",
       "      <td>119.705890</td>\n",
       "      <td>120.931516</td>\n",
       "      <td>50884452</td>\n",
       "      <td>0.0</td>\n",
       "      <td>1.0</td>\n",
       "    </tr>\n",
       "    <tr>\n",
       "      <th>3</th>\n",
       "      <td>3</td>\n",
       "      <td>AAPL</td>\n",
       "      <td>2015-06-01 00:00:00+00:00</td>\n",
       "      <td>130.535</td>\n",
       "      <td>131.390</td>\n",
       "      <td>130.05</td>\n",
       "      <td>131.20</td>\n",
       "      <td>32112797</td>\n",
       "      <td>120.291057</td>\n",
       "      <td>121.078960</td>\n",
       "      <td>119.844118</td>\n",
       "      <td>120.903870</td>\n",
       "      <td>32112797</td>\n",
       "      <td>0.0</td>\n",
       "      <td>1.0</td>\n",
       "    </tr>\n",
       "    <tr>\n",
       "      <th>4</th>\n",
       "      <td>4</td>\n",
       "      <td>AAPL</td>\n",
       "      <td>2015-06-02 00:00:00+00:00</td>\n",
       "      <td>129.960</td>\n",
       "      <td>130.655</td>\n",
       "      <td>129.32</td>\n",
       "      <td>129.86</td>\n",
       "      <td>33667627</td>\n",
       "      <td>119.761181</td>\n",
       "      <td>120.401640</td>\n",
       "      <td>119.171406</td>\n",
       "      <td>119.669029</td>\n",
       "      <td>33667627</td>\n",
       "      <td>0.0</td>\n",
       "      <td>1.0</td>\n",
       "    </tr>\n",
       "  </tbody>\n",
       "</table>\n",
       "</div>"
      ],
      "text/plain": [
       "   Unnamed: 0 symbol                       date    close     high     low  \\\n",
       "0           0   AAPL  2015-05-27 00:00:00+00:00  132.045  132.260  130.05   \n",
       "1           1   AAPL  2015-05-28 00:00:00+00:00  131.780  131.950  131.10   \n",
       "2           2   AAPL  2015-05-29 00:00:00+00:00  130.280  131.450  129.90   \n",
       "3           3   AAPL  2015-06-01 00:00:00+00:00  130.535  131.390  130.05   \n",
       "4           4   AAPL  2015-06-02 00:00:00+00:00  129.960  130.655  129.32   \n",
       "\n",
       "     open    volume    adjClose     adjHigh      adjLow     adjOpen  \\\n",
       "0  130.34  45833246  121.682558  121.880685  119.844118  120.111360   \n",
       "1  131.86  30733309  121.438354  121.595013  120.811718  121.512076   \n",
       "2  131.23  50884452  120.056069  121.134251  119.705890  120.931516   \n",
       "3  131.20  32112797  120.291057  121.078960  119.844118  120.903870   \n",
       "4  129.86  33667627  119.761181  120.401640  119.171406  119.669029   \n",
       "\n",
       "   adjVolume  divCash  splitFactor  \n",
       "0   45833246      0.0          1.0  \n",
       "1   30733309      0.0          1.0  \n",
       "2   50884452      0.0          1.0  \n",
       "3   32112797      0.0          1.0  \n",
       "4   33667627      0.0          1.0  "
      ]
     },
     "execution_count": 3,
     "metadata": {},
     "output_type": "execute_result"
    }
   ],
   "source": [
    "data.head()"
   ]
  },
  {
   "cell_type": "code",
   "execution_count": 4,
   "id": "188cb766",
   "metadata": {},
   "outputs": [
    {
     "data": {
      "text/plain": [
       "<AxesSubplot:>"
      ]
     },
     "execution_count": 4,
     "metadata": {},
     "output_type": "execute_result"
    },
    {
     "data": {
      "image/png": "[encoded data removed]",
      "text/plain": [
       "<Figure size 432x288 with 1 Axes>"
      ]
     },
     "metadata": {
      "needs_background": "light"
     },
     "output_type": "display_data"
    }
   ],
   "source": [
    "y = data['close']\n",
    "y.index=data.index\n",
    "y.plot()"
   ]
  },
  {
   "cell_type": "code",
   "execution_count": 5,
   "id": "a5ae983f",
   "metadata": {},
   "outputs": [],
   "source": [
    "# Convert Pandas series to numpy ndarray for further processing.\n",
    "y = y.values"
   ]
  },
  {
   "cell_type": "code",
   "execution_count": 6,
   "id": "2a2d3650",
   "metadata": {},
   "outputs": [
    {
     "name": "stdout",
     "output_type": "stream",
     "text": [
      "1006\n"
     ]
    }
   ],
   "source": [
    "# Split data into trainning and testing using 80/20 ratio.\n",
    "training_size = int(y.size * 0.8)\n",
    "print(training_size)"
   ]
  },
  {
   "cell_type": "code",
   "execution_count": 7,
   "id": "4507ed89",
   "metadata": {},
   "outputs": [],
   "source": [
    "# Data normalization using training data's mean and standard deviation.\n",
    "# y is a ndarray now and its dimension is 1.\n",
    "training_mean = y[:training_size].mean()\n",
    "training_std = y[:training_size].std()\n",
    "# standarize the data\n",
    "y = (y-training_mean)/training_std"
   ]
  },
  {
   "cell_type": "code",
   "execution_count": 8,
   "id": "06ebeb97",
   "metadata": {},
   "outputs": [
    {
     "data": {
      "text/plain": [
       "array([-0.39727421, -0.40449243, -0.44535032, -0.43840448, -0.45406667])"
      ]
     },
     "execution_count": 8,
     "metadata": {},
     "output_type": "execute_result"
    }
   ],
   "source": [
    "# Take a look at the training data\n",
    "y[0:5]"
   ]
  },
  {
   "cell_type": "code",
   "execution_count": 9,
   "id": "ab91d5de",
   "metadata": {},
   "outputs": [],
   "source": [
    "# Define a function to prepare data.\n",
    "# The time series data are reorganized to form feature vectors and target values.\n",
    "# For example, let sHistory be 10. A datapoint as a target will have 10 immediately \n",
    "# previous 10 values in the time series for its feature vector. \n",
    "def data_preprocess(dataset, iStart, iEnd, sHistory):\n",
    "  data = []\n",
    "  target = []\n",
    "  # begin with sHistory to have historical data\n",
    "  iStart += sHistory\n",
    "  if iEnd is None:\n",
    "    iEnd = len(dataset)\n",
    "  for i in range(iStart, iEnd):\n",
    "    indices = range(i-sHistory, i)\n",
    "    data.append(np.reshape(dataset[indices], (sHistory, 1)))\n",
    "    target.append(dataset[i])\n",
    "  return np.array(data), np.array(target)"
   ]
  },
  {
   "cell_type": "code",
   "execution_count": 10,
   "id": "9f32f939",
   "metadata": {},
   "outputs": [],
   "source": [
    "# Let's define number of history data for training and split data into training nd testing datasets.\n",
    "past_history = 10\n",
    "xtrain, ytrain = data_preprocess(y, 0, training_size, past_history)\n",
    "xtest, ytest = data_preprocess(y, training_size, None, past_history)"
   ]
  },
  {
   "cell_type": "code",
   "execution_count": 11,
   "id": "dc4f5b34",
   "metadata": {},
   "outputs": [
    {
     "data": {
      "text/plain": [
       "array([[0.88089678],\n",
       "       [0.86074022],\n",
       "       [0.83758742],\n",
       "       [0.86264692],\n",
       "       [0.77466627],\n",
       "       [0.72645396],\n",
       "       [0.89914664],\n",
       "       [0.97813856],\n",
       "       [1.05113799],\n",
       "       [1.18542425]])"
      ]
     },
     "execution_count": 11,
     "metadata": {},
     "output_type": "execute_result"
    }
   ],
   "source": [
    "# Take a look at data.\n",
    "xtest[0]"
   ]
  },
  {
   "cell_type": "code",
   "execution_count": 12,
   "id": "35ac23d3",
   "metadata": {},
   "outputs": [
    {
     "data": {
      "text/plain": [
       "array([[0.86074022],\n",
       "       [0.83758742],\n",
       "       [0.86264692],\n",
       "       [0.77466627],\n",
       "       [0.72645396],\n",
       "       [0.89914664],\n",
       "       [0.97813856],\n",
       "       [1.05113799],\n",
       "       [1.18542425],\n",
       "       [1.25161404]])"
      ]
     },
     "execution_count": 12,
     "metadata": {},
     "output_type": "execute_result"
    }
   ],
   "source": [
    "# Take a look at data.\n",
    "xtest[1]"
   ]
  },
  {
   "cell_type": "code",
   "execution_count": 13,
   "id": "c12dd610",
   "metadata": {},
   "outputs": [],
   "source": [
    "# It's time to get Tensorflow library in and create an LSTM model.\n",
    "import tensorflow as tf\n",
    "# Setting seed to ensure reproducibility.\n",
    "tf.random.set_seed(8888)\n",
    "model = tf.keras.models.Sequential([\n",
    "  tf.keras.layers.LSTM(8, input_shape=xtrain.shape[-2:]),\n",
    "  tf.keras.layers.Dense(1)\n",
    "])"
   ]
  },
  {
   "cell_type": "code",
   "execution_count": 14,
   "id": "e6b60d22",
   "metadata": {},
   "outputs": [],
   "source": [
    "def calculate_mape(y_true, y_pred): \n",
    "    \"\"\"\n",
    "    Calculate the Mean Absolute Percentage Error (MAPE) %\n",
    "    \"\"\"\n",
    "    y_pred, y_true = np.array(y_pred), np.array(y_true)    \n",
    "    mape = np.mean(np.abs((y_true-y_pred) / y_true))*100    \n",
    "    return mape"
   ]
  },
  {
   "cell_type": "code",
   "execution_count": 15,
   "id": "e2e6388f",
   "metadata": {},
   "outputs": [],
   "source": [
    "# Before taining, you need to configure the model for training.\n",
    "model.compile(optimizer='Adam',loss='mse')"
   ]
  },
  {
   "cell_type": "code",
   "execution_count": 16,
   "id": "d62c983d",
   "metadata": {},
   "outputs": [],
   "source": [
    "BATCH_SIZE = 16\n",
    "BUFFER_SIZE = 10000\n",
    "\n",
    "p_train = tf.data.Dataset.from_tensor_slices((xtrain, ytrain))\n",
    "p_train = p_train.cache().shuffle(BUFFER_SIZE).batch(BATCH_SIZE).repeat()\n",
    "\n",
    "p_test = tf.data.Dataset.from_tensor_slices((xtest, ytest))\n",
    "p_test = p_test.batch(BATCH_SIZE).repeat()"
   ]
  },
  {
   "cell_type": "code",
   "execution_count": 17,
   "id": "8a80c81f",
   "metadata": {},
   "outputs": [
    {
     "name": "stdout",
     "output_type": "stream",
     "text": [
      "Epoch 1/10\n",
      "200/200 [==============================] - 2s 5ms/step - loss: 0.1715 - val_loss: 3.1751\n",
      "Epoch 2/10\n",
      "200/200 [==============================] - 1s 3ms/step - loss: 0.0261 - val_loss: 1.9070\n",
      "Epoch 3/10\n",
      "200/200 [==============================] - 1s 3ms/step - loss: 0.0143 - val_loss: 1.3256\n",
      "Epoch 4/10\n",
      "200/200 [==============================] - 1s 3ms/step - loss: 0.0103 - val_loss: 1.0941\n",
      "Epoch 5/10\n",
      "200/200 [==============================] - 1s 3ms/step - loss: 0.0092 - val_loss: 0.9042\n",
      "Epoch 6/10\n",
      "200/200 [==============================] - 1s 3ms/step - loss: 0.0085 - val_loss: 0.7842\n",
      "Epoch 7/10\n",
      "200/200 [==============================] - 1s 3ms/step - loss: 0.0080 - val_loss: 0.7447\n",
      "Epoch 8/10\n",
      "200/200 [==============================] - 1s 3ms/step - loss: 0.0074 - val_loss: 0.6763\n",
      "Epoch 9/10\n",
      "200/200 [==============================] - 1s 3ms/step - loss: 0.0076 - val_loss: 0.6130\n",
      "Epoch 10/10\n",
      "200/200 [==============================] - 1s 4ms/step - loss: 0.0070 - val_loss: 0.5526\n"
     ]
    }
   ],
   "source": [
    "# For your model to be able to predict something, your need to train your model using training data.\n",
    "history = model.fit(p_train, epochs = 10, steps_per_epoch=200, validation_data=p_test, validation_steps=50)"
   ]
  },
  {
   "cell_type": "code",
   "execution_count": 18,
   "id": "2351b5c2",
   "metadata": {},
   "outputs": [
    {
     "data": {
      "text/html": [
       "<div>\n",
       "<style scoped>\n",
       "    .dataframe tbody tr th:only-of-type {\n",
       "        vertical-align: middle;\n",
       "    }\n",
       "\n",
       "    .dataframe tbody tr th {\n",
       "        vertical-align: top;\n",
       "    }\n",
       "\n",
       "    .dataframe thead th {\n",
       "        text-align: right;\n",
       "    }\n",
       "</style>\n",
       "<table border=\"1\" class=\"dataframe\">\n",
       "  <thead>\n",
       "    <tr style=\"text-align: right;\">\n",
       "      <th></th>\n",
       "      <th>loss</th>\n",
       "      <th>val_loss</th>\n",
       "    </tr>\n",
       "  </thead>\n",
       "  <tbody>\n",
       "    <tr>\n",
       "      <th>0</th>\n",
       "      <td>0.171471</td>\n",
       "      <td>3.175051</td>\n",
       "    </tr>\n",
       "    <tr>\n",
       "      <th>1</th>\n",
       "      <td>0.026144</td>\n",
       "      <td>1.907029</td>\n",
       "    </tr>\n",
       "    <tr>\n",
       "      <th>2</th>\n",
       "      <td>0.014251</td>\n",
       "      <td>1.325554</td>\n",
       "    </tr>\n",
       "    <tr>\n",
       "      <th>3</th>\n",
       "      <td>0.010288</td>\n",
       "      <td>1.094132</td>\n",
       "    </tr>\n",
       "    <tr>\n",
       "      <th>4</th>\n",
       "      <td>0.009214</td>\n",
       "      <td>0.904237</td>\n",
       "    </tr>\n",
       "  </tbody>\n",
       "</table>\n",
       "</div>"
      ],
      "text/plain": [
       "       loss  val_loss\n",
       "0  0.171471  3.175051\n",
       "1  0.026144  1.907029\n",
       "2  0.014251  1.325554\n",
       "3  0.010288  1.094132\n",
       "4  0.009214  0.904237"
      ]
     },
     "execution_count": 18,
     "metadata": {},
     "output_type": "execute_result"
    }
   ],
   "source": [
    "# Convert training history to datafram for viewing and graphing.\n",
    "hist = pd.DataFrame(history.history)\n",
    "hist.head()"
   ]
  },
  {
   "cell_type": "code",
   "execution_count": 19,
   "id": "c7f99091",
   "metadata": {},
   "outputs": [],
   "source": [
    "# Now, we can predict stock values after model is trained. \n",
    "# We keep the predicted values and target vlaues for graphics later.\n",
    "# You may run on p_train or p_test to check the preformance.\n",
    "predicted_value = []\n",
    "y_orig = []\n",
    "count =0;\n",
    "for x, y in p_train.take(20):\n",
    "  y_orig.append(y[0].numpy())\n",
    "  t_pred= model.predict(x)\n",
    "  predicted_value.append(t_pred[0])"
   ]
  },
  {
   "cell_type": "code",
   "execution_count": 20,
   "id": "b8a88c40",
   "metadata": {},
   "outputs": [
    {
     "data": {
      "text/plain": [
       "<AxesSubplot:>"
      ]
     },
     "execution_count": 20,
     "metadata": {},
     "output_type": "execute_result"
    },
    {
     "data": {
      "image/png": "[encoded data removed]",
      "text/plain": [
       "<Figure size 432x288 with 1 Axes>"
      ]
     },
     "metadata": {
      "needs_background": "light"
     },
     "output_type": "display_data"
    }
   ],
   "source": [
    "# Plot the predicted value and the target values together.\n",
    "y_pred = [predicted_value[i][0] for i in range(len(predicted_value))]\n",
    "result = pd.DataFrame({'predicted':y_pred, 'target':y_orig})\n",
    "result.plot()"
   ]
  },
  {
   "cell_type": "code",
   "execution_count": 21,
   "id": "a3fe708d",
   "metadata": {},
   "outputs": [],
   "source": [
    "# Now, we can predict stock values after model is trained. \n",
    "# We keep the predicted values and target vlaues for graphics later.\n",
    "# You may run on p_train or p_test to check the preformance.\n",
    "predicted_value = []\n",
    "y_orig = []\n",
    "count =0;\n",
    "for x, y in p_test.take(20):\n",
    "  y_orig.append(y[0].numpy())\n",
    "  t_pred= model.predict(x)\n",
    "  predicted_value.append(t_pred[0])"
   ]
  },
  {
   "cell_type": "code",
   "execution_count": 22,
   "id": "32facbc5",
   "metadata": {},
   "outputs": [
    {
     "data": {
      "text/plain": [
       "<AxesSubplot:>"
      ]
     },
     "execution_count": 22,
     "metadata": {},
     "output_type": "execute_result"
    },
    {
     "data": {
      "image/png": "[encoded data removed]",
      "text/plain": [
       "<Figure size 432x288 with 1 Axes>"
      ]
     },
     "metadata": {
      "needs_background": "light"
     },
     "output_type": "display_data"
    }
   ],
   "source": [
    "# Plot the predicted value and the target values together.\n",
    "y_pred = [predicted_value[i][0] for i in range(len(predicted_value))]\n",
    "result = pd.DataFrame({'predicted':y_pred, 'target':y_orig})\n",
    "result.plot()"
   ]
  },
  {
   "cell_type": "code",
   "execution_count": null,
   "id": "79ffaa95",
   "metadata": {},
   "outputs": [],
   "source": []
  }
 ],
 "metadata": {
  "kernelspec": {
   "display_name": "Python 3 (ipykernel)",
   "language": "python",
   "name": "python3"
  },
  "language_info": {
   "codemirror_mode": {
    "name": "ipython",
    "version": 3
   },
   "file_extension": ".py",
   "mimetype": "text/x-python",
   "name": "python",
   "nbconvert_exporter": "python",
   "pygments_lexer": "ipython3",
   "version": "3.9.7"
  }
 },
 "nbformat": 4,
 "nbformat_minor": 5
}
